{
 "cells": [
  {
   "cell_type": "markdown",
   "id": "72b41510",
   "metadata": {},
   "source": [
    "# Regular Expressions in NLP Assignment: Solutions and Analysis"
   ]
  },
  {
   "cell_type": "markdown",
   "id": "fe062d00",
   "metadata": {},
   "source": [
    "Welcome to my NLP assignment notebook focused on regular expressions! \n",
    "In this project, I explore the power of regex patterns for solving various language-related tasks. Whether you're a fellow student, an aspiring NLP practitioner, or just curious, I hope you find this notebook informative."
   ]
  },
  {
   "cell_type": "markdown",
   "id": "85c6ada9",
   "metadata": {},
   "source": [
    "# Background"
   ]
  },
  {
   "cell_type": "markdown",
   "id": "ec633f13",
   "metadata": {},
   "source": [
    "Regular expressions (regex) are essential tools for text processing. They allow us to search, match, and manipulate strings based on specific patterns. In NLP, regex plays a crucial role in tasks like text cleaning, entity extraction, and validation.\n"
   ]
  },
  {
   "cell_type": "markdown",
   "id": "301a6205",
   "metadata": {},
   "source": [
    "# Problem Statement"
   ]
  },
  {
   "cell_type": "markdown",
   "id": "7f0970ba",
   "metadata": {},
   "source": [
    "Our assignment revolves around solving NLP challenges using regular expressions. From detecting repeated words to validating email addresses, we'll dive into practical applications of regex."
   ]
  },
  {
   "cell_type": "markdown",
   "id": "4d986aa6",
   "metadata": {},
   "source": [
    "##### Q#1: Write a regular expression function for the following. By “word”, we mean an alphabetic string separated from other words by whitespace, any relevant punctuation, line breaks, and so forth."
   ]
  },
  {
   "cell_type": "markdown",
   "id": "7df6b643",
   "metadata": {},
   "source": [
    "## 1 - Two Consecutive Repeated Words"
   ]
  },
  {
   "cell_type": "code",
   "execution_count": 1,
   "id": "4e3d7a42",
   "metadata": {},
   "outputs": [],
   "source": [
    "import re"
   ]
  },
  {
   "cell_type": "code",
   "execution_count": 2,
   "id": "220d0ae8",
   "metadata": {},
   "outputs": [],
   "source": [
    "def find_repeated_words(text):\n",
    "       pattern = r'\\b(\\w+)\\s+\\1\\b'\n",
    "       return re.findall(pattern, text)"
   ]
  },
  {
   "cell_type": "code",
   "execution_count": 3,
   "id": "77da505c",
   "metadata": {},
   "outputs": [
    {
     "name": "stdout",
     "output_type": "stream",
     "text": [
      "Repeated words: ['Humbert', 'the']\n"
     ]
    }
   ],
   "source": [
    "text = \"Humbert Humbert and the the quick brown fox\"\n",
    "repeated_words=find_repeated_words(text)\n",
    "print(\"Repeated words:\", repeated_words)"
   ]
  },
  {
   "cell_type": "markdown",
   "id": "2ce636ab",
   "metadata": {},
   "source": [
    "## 2 - Starts with an Integer and Ends with a Word"
   ]
  },
  {
   "cell_type": "code",
   "execution_count": 4,
   "id": "1f7dd79f",
   "metadata": {},
   "outputs": [],
   "source": [
    "def validate_start_end(text):\n",
    "       pattern = r'^\\d.*\\b(\\w+)$'\n",
    "       return bool(re.match(pattern, text))"
   ]
  },
  {
   "cell_type": "code",
   "execution_count": 5,
   "id": "fa7dbf35",
   "metadata": {},
   "outputs": [
    {
     "name": "stdout",
     "output_type": "stream",
     "text": [
      "Valid: True\n"
     ]
    }
   ],
   "source": [
    "text = \"42 is the answer\"\n",
    "is_valid = validate_start_end(text)\n",
    "print(\"Valid:\", is_valid)"
   ]
  },
  {
   "cell_type": "markdown",
   "id": "3477b011",
   "metadata": {},
   "source": [
    "## 3 - Contains Both \"grotto\" and \"raven\""
   ]
  },
  {
   "cell_type": "code",
   "execution_count": 6,
   "id": "d266eafc",
   "metadata": {},
   "outputs": [],
   "source": [
    "def find_grotto_raven_strings(text):\n",
    "    pattern = r'\\b(?:grotto|raven)\\b.*\\b(?:grotto|raven)\\b'\n",
    "    return re.findall(pattern, text)"
   ]
  },
  {
   "cell_type": "code",
   "execution_count": 7,
   "id": "dbc18bfa",
   "metadata": {},
   "outputs": [
    {
     "name": "stdout",
     "output_type": "stream",
     "text": [
      "Matching strings: ['raven flew into the grotto']\n"
     ]
    }
   ],
   "source": [
    "text = \"The raven flew into the grotto. Grottos are fascinating.\"\n",
    "matching_strings = find_grotto_raven_strings(text)\n",
    "print(\"Matching strings:\", matching_strings)"
   ]
  },
  {
   "cell_type": "markdown",
   "id": "fbedde6c",
   "metadata": {},
   "source": [
    "## 4 - Valid Email Address"
   ]
  },
  {
   "cell_type": "code",
   "execution_count": 8,
   "id": "22494e8e",
   "metadata": {},
   "outputs": [],
   "source": [
    "def validate_email(email):\n",
    "    pattern = r'^[a-zA-Z0-9._%+-]+@[a-zA-Z0-9.-]+\\.[a-zA-Z]{2,}$'\n",
    "    return bool(re.match(pattern, email))"
   ]
  },
  {
   "cell_type": "code",
   "execution_count": 9,
   "id": "dd7c2684",
   "metadata": {},
   "outputs": [
    {
     "name": "stdout",
     "output_type": "stream",
     "text": [
      "Valid email: True\n"
     ]
    }
   ],
   "source": [
    "email_address = \"w4s.tila@gmail.com\"\n",
    "is_valid_email = validate_email(email_address)\n",
    "print(\"Valid email:\", is_valid_email)"
   ]
  },
  {
   "cell_type": "markdown",
   "id": "d8010fd8",
   "metadata": {},
   "source": [
    "## 5 - Pakistani Mobile Network Phone Numbers"
   ]
  },
  {
   "cell_type": "code",
   "execution_count": 10,
   "id": "69db4e2d",
   "metadata": {},
   "outputs": [],
   "source": [
    "def validate_pakistani_number(number):\n",
    "    pattern = r'^\\+92\\d{10}$'\n",
    "    return bool(re.match(pattern, number))"
   ]
  },
  {
   "cell_type": "code",
   "execution_count": 11,
   "id": "ee1c3ec9",
   "metadata": {},
   "outputs": [
    {
     "name": "stdout",
     "output_type": "stream",
     "text": [
      "Valid phone number: True\n"
     ]
    }
   ],
   "source": [
    "phone_number = \"+923001234567\"\n",
    "is_valid = validate_pakistani_number(phone_number)\n",
    "print(\"Valid phone number:\", is_valid)"
   ]
  },
  {
   "cell_type": "markdown",
   "id": "0dc7904a",
   "metadata": {},
   "source": [
    "## 6 - Remove Symbols and Non-Alphanumeric Characters"
   ]
  },
  {
   "cell_type": "code",
   "execution_count": 12,
   "id": "7d870b40",
   "metadata": {},
   "outputs": [],
   "source": [
    "def remove_symbols(text):\n",
    "    return re.sub(r'[^\\w\\s]+', '', text)"
   ]
  },
  {
   "cell_type": "code",
   "execution_count": 13,
   "id": "f3d29118",
   "metadata": {},
   "outputs": [
    {
     "name": "stdout",
     "output_type": "stream",
     "text": [
      "Cleaned text: Hello world This is my first NLP assignment\n"
     ]
    }
   ],
   "source": [
    "text = \"Hello, world! This is my first NLP assignment.\"\n",
    "cleaned_text = remove_symbols(text)\n",
    "print(\"Cleaned text:\", cleaned_text)"
   ]
  },
  {
   "cell_type": "markdown",
   "id": "f5cb605d",
   "metadata": {},
   "source": [
    "## 7 - Remove URLs and HTML Tags"
   ]
  },
  {
   "cell_type": "code",
   "execution_count": 35,
   "id": "547e0359",
   "metadata": {},
   "outputs": [],
   "source": [
    "def remove_urls_and_html(text):\n",
    "    # Remove URLs\n",
    "    cleaned_text = re.sub(r'http[s]?://\\S+', '', text)\n",
    "    # Remove HTML tags\n",
    "    cleaned_text = re.sub(r'<[^>]*>', '', cleaned_text)\n",
    "    return cleaned_text"
   ]
  },
  {
   "cell_type": "code",
   "execution_count": 37,
   "id": "83e1fcab",
   "metadata": {},
   "outputs": [
    {
     "name": "stdout",
     "output_type": "stream",
     "text": [
      "Cleaned text:\n",
      "\n",
      "This is an example tags.\n",
      "Visit our website at  for more information.\n",
      "\n"
     ]
    }
   ],
   "source": [
    "text = \"\"\"\n",
    "<p>This is an example <a href=\"https://example.com\">HTML</a> text with <b>tags</b>.</p>\n",
    "Visit our website at https://example.com for more information.\n",
    "\"\"\"\n",
    "cleaned_text = remove_urls_and_html(text)\n",
    "print(\"Cleaned text:\")\n",
    "print(cleaned_text)"
   ]
  },
  {
   "cell_type": "markdown",
   "id": "09663c6e",
   "metadata": {},
   "source": [
    "## 8 - Find Acronyms (Uppercase Letters)"
   ]
  },
  {
   "cell_type": "code",
   "execution_count": 16,
   "id": "4f0998ae",
   "metadata": {},
   "outputs": [],
   "source": [
    "def find_acronyms(text):\n",
    "       pattern = r'\\b[A-Z]{2,}\\b'\n",
    "       return re.findall(pattern, text)"
   ]
  },
  {
   "cell_type": "code",
   "execution_count": 17,
   "id": "281f3e7c",
   "metadata": {},
   "outputs": [
    {
     "name": "stdout",
     "output_type": "stream",
     "text": [
      "Acronyms: ['NASA', 'FBI']\n"
     ]
    }
   ],
   "source": [
    "text = \"NASA and FBI are well-known acronyms.\"\n",
    "acronyms = find_acronyms(text)\n",
    "print(\"Acronyms:\", acronyms)"
   ]
  },
  {
   "cell_type": "markdown",
   "id": "bb2ac2c9",
   "metadata": {},
   "source": [
    "## 9 - Mask Sensitive Info (Phone Numbers)"
   ]
  },
  {
   "cell_type": "code",
   "execution_count": 18,
   "id": "2c69dcc7",
   "metadata": {},
   "outputs": [],
   "source": [
    "def mask_phone_numbers(text):\n",
    "       return re.sub(r'\\b\\d{3}-\\d{3}-\\d{4}\\b', 'XXX-XXX-XXXX', text)"
   ]
  },
  {
   "cell_type": "code",
   "execution_count": 19,
   "id": "096c7b25",
   "metadata": {},
   "outputs": [
    {
     "name": "stdout",
     "output_type": "stream",
     "text": [
      "Masked text: Call me at XXX-XXX-XXXX.\n"
     ]
    }
   ],
   "source": [
    "text = \"Call me at 123-456-7890.\"   \n",
    "masked_text = mask_phone_numbers(text)\n",
    "print(\"Masked text:\", masked_text)"
   ]
  },
  {
   "cell_type": "markdown",
   "id": "06bc40d4",
   "metadata": {},
   "source": [
    "## 10 - Extract Dates (Various Formats)"
   ]
  },
  {
   "cell_type": "code",
   "execution_count": 25,
   "id": "ad827768",
   "metadata": {},
   "outputs": [],
   "source": [
    "def extract_dates(text):\n",
    "    # Date formats: DD-MM-YYYY, MM/DD/YYYY, YYYY-MM-DD\n",
    "    pattern = r'\\b(?:\\d{2}-\\d{2}-\\d{4}|\\d{2}/\\d{2}/\\d{4}|\\d{4}-\\d{2}-\\d{2})\\b'\n",
    "    return re.findall(pattern, text)"
   ]
  },
  {
   "cell_type": "code",
   "execution_count": 26,
   "id": "753c201e",
   "metadata": {},
   "outputs": [
    {
     "name": "stdout",
     "output_type": "stream",
     "text": [
      "Extracted dates: ['15-07-2024', '2024-07-15', '07/15/2024']\n"
     ]
    }
   ],
   "source": [
    "text = \"Meeting scheduled for 15-07-2024 and 2024-07-15. Also, 07/15/2024.\"\n",
    "dates = extract_dates(text)\n",
    "print(\"Extracted dates:\", dates)"
   ]
  },
  {
   "cell_type": "markdown",
   "id": "fdf0d9e9",
   "metadata": {},
   "source": [
    "## 11 - Extract Currency Amounts"
   ]
  },
  {
   "cell_type": "code",
   "execution_count": 33,
   "id": "c525271e",
   "metadata": {},
   "outputs": [],
   "source": [
    "def extract_currency_amounts(text):\n",
    "    # Match currency symbols followed by digits (with optional decimal part)\n",
    "    pattern = r'[£$€]\\s*\\d+(?:\\.\\d{2})?|\\d+(?:\\.\\d{2})?\\s*[£$€]'\n",
    "    return re.findall(pattern, text)"
   ]
  },
  {
   "cell_type": "code",
   "execution_count": 34,
   "id": "55d46bd3",
   "metadata": {},
   "outputs": [
    {
     "name": "stdout",
     "output_type": "stream",
     "text": [
      "Currency amounts: ['$100.00', '€50']\n"
     ]
    }
   ],
   "source": [
    "text = \"Total cost: $100.00 and €50.\"\n",
    "amounts = extract_currency_amounts(text)\n",
    "print(\"Currency amounts:\", amounts)"
   ]
  },
  {
   "cell_type": "markdown",
   "id": "9617f51a",
   "metadata": {},
   "source": [
    "## 12 - Find Capitalized Words"
   ]
  },
  {
   "cell_type": "code",
   "execution_count": 29,
   "id": "4a78fe5f",
   "metadata": {},
   "outputs": [],
   "source": [
    "def find_capitalized_words(text):\n",
    "    pattern = r'\\b[A-Z][a-z]*\\b'\n",
    "    return re.findall(pattern, text)"
   ]
  },
  {
   "cell_type": "code",
   "execution_count": 30,
   "id": "9aaae079",
   "metadata": {},
   "outputs": [
    {
     "name": "stdout",
     "output_type": "stream",
     "text": [
      "Capitalized words: ['The', 'Quick', 'Fox', 'Jumps', 'Lazy', 'Dog']\n"
     ]
    }
   ],
   "source": [
    "text = \"The Quick brown Fox Jumps over the Lazy Dog.\"\n",
    "capitalized_words = find_capitalized_words(text)\n",
    "print(\"Capitalized words:\", capitalized_words)"
   ]
  },
  {
   "cell_type": "markdown",
   "id": "f9b78ee3",
   "metadata": {},
   "source": [
    "## 13 - Find Repeated Consecutive Words"
   ]
  },
  {
   "cell_type": "code",
   "execution_count": 31,
   "id": "5b952a75",
   "metadata": {},
   "outputs": [],
   "source": [
    "def find_repeated_consecutive_words(text):\n",
    "    pattern = r'\\b(\\w+)\\s+\\1\\b'\n",
    "    return re.findall(pattern, text)"
   ]
  },
  {
   "cell_type": "code",
   "execution_count": 32,
   "id": "da956002",
   "metadata": {},
   "outputs": [
    {
     "name": "stdout",
     "output_type": "stream",
     "text": [
      "Repeated consecutive words: ['brown', 'lazy']\n"
     ]
    }
   ],
   "source": [
    "text = \"The quick brown brown fox jumps over the lazy lazy dog.\"\n",
    "repeated_words = find_repeated_consecutive_words(text)\n",
    "print(\"Repeated consecutive words:\", repeated_words)"
   ]
  },
  {
   "cell_type": "markdown",
   "id": "faae6a8e",
   "metadata": {},
   "source": [
    "## Conclusion"
   ]
  },
  {
   "cell_type": "markdown",
   "id": "74a96ee0",
   "metadata": {},
   "source": [
    "In this NLP assignment, we explored the power of regular expressions (regex) for solving various language-related tasks. Here are our main takeaways:\n",
    "\n",
    "- Regex patterns can be incredibly versatile for text processing.\n",
    "- Task-specific patterns are essential for accurate results (e.g., detecting repeated words, validating phone numbers).\n",
    "\n",
    "Overall, regex provides a solid foundation for NLP, but it's essential to understand its limitations and explore more advanced techniques in future projects."
   ]
  },
  {
   "cell_type": "markdown",
   "id": "48e6331d",
   "metadata": {},
   "source": [
    "## Acknowledgments"
   ]
  },
  {
   "cell_type": "markdown",
   "id": "03e15233",
   "metadata": {},
   "source": [
    "Special thanks to my trainer, Miss Mahnoor Salman, for her valuable guidance and lessons during the classes. Her insights and feedback significantly contributed to the success of this assignment. I am an AI trainee at AtomCamp, and I appreciate the opportunity to learn and grow under her mentorship. Thank you, Ma'am!"
   ]
  }
 ],
 "metadata": {
  "kernelspec": {
   "display_name": "Python 3 (ipykernel)",
   "language": "python",
   "name": "python3"
  },
  "language_info": {
   "codemirror_mode": {
    "name": "ipython",
    "version": 3
   },
   "file_extension": ".py",
   "mimetype": "text/x-python",
   "name": "python",
   "nbconvert_exporter": "python",
   "pygments_lexer": "ipython3",
   "version": "3.10.11"
  }
 },
 "nbformat": 4,
 "nbformat_minor": 5
}
